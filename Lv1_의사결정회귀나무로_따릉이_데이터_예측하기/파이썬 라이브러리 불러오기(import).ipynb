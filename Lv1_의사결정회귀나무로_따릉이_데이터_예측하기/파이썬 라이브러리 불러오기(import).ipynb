{
 "cells": [
  {
   "cell_type": "markdown",
   "metadata": {},
   "source": [
    "# Lv1 EDA 1/5 python 파이썬 라이브러리 불러오기(import)"
   ]
  },
  {
   "cell_type": "markdown",
   "metadata": {},
   "source": [
    "##### 데이터를 분석하기 위해 불러오고, 조작하는 등 핸들링을 하려면 도구가 필요합니다. 대표적으로 pandas, numpy, matplotlib 등이 있습니다. 머신러닝을 하려면 최우선적으로 이러한 도구, 즉 라이브러리를 불러와야 합니다.\n",
    "\n",
    "\n"
   ]
  },
  {
   "cell_type": "markdown",
   "metadata": {},
   "source": [
    "### 실습\n",
    "\n",
    "###### 아래 pandas 라이브러리를 pd이름으로 불러오는 코드를 작성해보세요."
   ]
  },
  {
   "cell_type": "code",
   "execution_count": null,
   "metadata": {},
   "outputs": [],
   "source": [
    "import [라이브러리] as [사용할이름]"
   ]
  },
  {
   "cell_type": "markdown",
   "metadata": {},
   "source": [
    "### 정답"
   ]
  },
  {
   "cell_type": "code",
   "execution_count": 1,
   "metadata": {},
   "outputs": [],
   "source": [
    "import pandas as pd"
   ]
  }
 ],
 "metadata": {
  "kernelspec": {
   "display_name": "Python 3.9.12 ('base')",
   "language": "python",
   "name": "python3"
  },
  "language_info": {
   "codemirror_mode": {
    "name": "ipython",
    "version": 3
   },
   "file_extension": ".py",
   "mimetype": "text/x-python",
   "name": "python",
   "nbconvert_exporter": "python",
   "pygments_lexer": "ipython3",
   "version": "3.9.12"
  },
  "orig_nbformat": 4,
  "vscode": {
   "interpreter": {
    "hash": "8cec6bbe28903d4a0345f60382784c27f3943b6699f7750d17eafbf38ccdaddd"
   }
  }
 },
 "nbformat": 4,
 "nbformat_minor": 2
}
